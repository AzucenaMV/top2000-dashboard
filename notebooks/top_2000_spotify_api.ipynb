{
  "nbformat": 4,
  "nbformat_minor": 0,
  "metadata": {
    "colab": {
      "name": "top_2000_spotify_api.ipynb",
      "provenance": [],
      "collapsed_sections": [],
      "mount_file_id": "1KN2GymOMT-xINtxTF0rIETYL2GQzQTzj",
      "authorship_tag": "ABX9TyO+0wfMCjTWNGyO/x1ipXYy",
      "include_colab_link": true
    },
    "kernelspec": {
      "name": "python3",
      "display_name": "Python 3"
    },
    "language_info": {
      "name": "python"
    }
  },
  "cells": [
    {
      "cell_type": "markdown",
      "metadata": {
        "id": "view-in-github",
        "colab_type": "text"
      },
      "source": [
        "<a href=\"https://colab.research.google.com/github/AzucenaMV/top2000-dashboard/blob/main/top_2000_spotify_api.ipynb\" target=\"_parent\"><img src=\"https://colab.research.google.com/assets/colab-badge.svg\" alt=\"Open In Colab\"/></a>"
      ]
    },
    {
      "cell_type": "code",
      "execution_count": null,
      "metadata": {
        "id": "GlVBR0_5FgB9"
      },
      "outputs": [],
      "source": [
        "import pandas as pd\n",
        "import requests\n",
        "import os"
      ]
    },
    {
      "cell_type": "code",
      "source": [
        "from google.colab import drive\n",
        "drive.mount('/content/drive')"
      ],
      "metadata": {
        "colab": {
          "base_uri": "https://localhost:8080/"
        },
        "id": "ZTlDzRHxIiWL",
        "outputId": "b0715959-438c-4903-8fcc-e67af5e8e222"
      },
      "execution_count": null,
      "outputs": [
        {
          "output_type": "stream",
          "name": "stdout",
          "text": [
            "Drive already mounted at /content/drive; to attempt to forcibly remount, call drive.mount(\"/content/drive\", force_remount=True).\n"
          ]
        }
      ]
    },
    {
      "cell_type": "code",
      "source": [
        "path = 'drive/MyDrive/JADS/DataVizProject/Code/'\n",
        "file_top = \"top2000.csv\"\n",
        "file_features = 'song_features_v2.csv'\n",
        "file_id = 'song_id.csv'\n",
        "file_artist = 'artist_features.csv'"
      ],
      "metadata": {
        "id": "Y_kC0wb4IhWi"
      },
      "execution_count": null,
      "outputs": []
    },
    {
      "cell_type": "code",
      "source": [
        "df = pd.read_csv(os.path.join(path,file_top))"
      ],
      "metadata": {
        "id": "zFFnBjDDIrKq"
      },
      "execution_count": null,
      "outputs": []
    },
    {
      "cell_type": "code",
      "source": [
        "def clean_name(df, new_col = 'song_clean', old_col = 'song'):\n",
        "  df.dropna(subset = [old_col], inplace = True)\n",
        "  df[new_col] = df[old_col].str.lower()\n",
        "  df[new_col] = df[new_col].str.lstrip()\n",
        "  df[new_col] = df[new_col].str.replace(\"'\",\"\")\n",
        "  df[new_col] = df[new_col].str.normalize('NFKD').str.encode('ascii',errors='ignore').str.decode('utf-8')\n",
        "  return df"
      ],
      "metadata": {
        "id": "rT4NVBEmJHJP"
      },
      "execution_count": null,
      "outputs": []
    },
    {
      "cell_type": "code",
      "source": [
        "df = clean_name(df)\n",
        "df = clean_name(df, new_col = 'artist_clean', old_col = 'artist')"
      ],
      "metadata": {
        "id": "1ig7NDZvJPS3"
      },
      "execution_count": null,
      "outputs": []
    },
    {
      "cell_type": "code",
      "source": [
        "# manually cleaning song names\n",
        "df.loc[232,'song_clean'] = 'kronenburg park'\n",
        "df.loc[2278,'song_clean'] = \"rainy day woman 12\"\n",
        "df.loc[2817,'song_clean'] = 'everlong acoustic'\n",
        "df.loc[3456,'song_clean'] = 'abergavernny'\n",
        "df.loc[3482,'song_clean'] = \"dont you write her off\"\n",
        "df.loc[3614,'song_clean'] = 'ein bisschen frieden'\n",
        "df.loc[4205,'song_clean'] = 'everybody knows'"
      ],
      "metadata": {
        "id": "VP3kp5p3oXjM"
      },
      "execution_count": null,
      "outputs": []
    },
    {
      "cell_type": "code",
      "source": [
        "TOKEN = \"\""
      ],
      "metadata": {
        "id": "sxPj2HaOXfgc"
      },
      "execution_count": null,
      "outputs": []
    },
    {
      "cell_type": "code",
      "source": [
        "# getting song id by name of the song (and artist)\n",
        "data_list = []\n",
        "\n",
        "for ind, (artist, song) in enumerate(zip(df['artist_clean'],df['song_clean'])):\n",
        "  r = requests.get(f'https://api.spotify.com/v1/search?q=track:{song}%20artist:{artist}&type=track&limit=1', headers={'Authorization': f'Bearer {TOKEN}'})\n",
        "  try: \n",
        "    json = r.json()['tracks']['items'][0]\n",
        "    data_list.append([ind, json['id'],json['name'],json['artists'][0]['name'],json['artists'][0]['id'],json['album']['name'],json['album']['release_date'], json['popularity'],json['duration_ms'],1])\n",
        "  except:\n",
        "    r = requests.get(f'https://api.spotify.com/v1/search?q=track:{song}&type=track&limit=1', headers={'Authorization': f'Bearer {TOKEN}'})\n",
        "    \n",
        "    try:\n",
        "      json = r.json()['tracks']['items'][0]\n",
        "      data_list.append([ind, json['id'],json['name'],json['artists'][0]['name'],json['artists'][0]['id'],json['album']['name'],json['album']['release_date'], json['popularity'],json['duration_ms'],0])\n",
        "    except:\n",
        "      print(ind)\n",
        "      data_list.append([ind] + [''] * 9)"
      ],
      "metadata": {
        "colab": {
          "base_uri": "https://localhost:8080/"
        },
        "id": "56NZXX9Tjj6J",
        "outputId": "c9762fe9-97bf-4243-9fa4-ff7446a2a1bf"
      },
      "execution_count": null,
      "outputs": [
        {
          "output_type": "stream",
          "name": "stdout",
          "text": [
            "1386\n",
            "1918\n",
            "2320\n",
            "2501\n",
            "3358\n",
            "3456\n",
            "3660\n",
            "4320\n",
            "4528\n",
            "4529\n"
          ]
        }
      ]
    },
    {
      "cell_type": "code",
      "source": [
        "df_id = pd.DataFrame (data_list, columns = ['index', 'song_id','song_name','artist_name','artist_id','album_name','album_date','song_popularity','duration_ms','search_includes_artist'])"
      ],
      "metadata": {
        "id": "5534vIS7kezG"
      },
      "execution_count": null,
      "outputs": []
    },
    {
      "cell_type": "code",
      "source": [
        "# saving file\n",
        "df_id.to_csv(os.path.join(path,file_id), index = False)"
      ],
      "metadata": {
        "id": "Ltq4IbgLndVL"
      },
      "execution_count": null,
      "outputs": []
    },
    {
      "cell_type": "code",
      "source": [
        "df_id = pd.read_csv(os.path.join(path,file_id))"
      ],
      "metadata": {
        "id": "pjJ4r4br0Bep"
      },
      "execution_count": null,
      "outputs": []
    },
    {
      "cell_type": "code",
      "source": [
        "TOKEN = \"\""
      ],
      "metadata": {
        "id": "EWILEgwEiB7Z"
      },
      "execution_count": null,
      "outputs": []
    },
    {
      "cell_type": "code",
      "source": [
        "# getting audio features with song id\n",
        "import time\n",
        "\n",
        "features_list = []\n",
        "song_ids = df_id[df_id.song_id.notna()].song_id\n",
        "\n",
        "for id in song_ids:\n",
        "  if id != '':\n",
        "    time.sleep(.5)\n",
        "    x = requests.get(f'https://api.spotify.com/v1/audio-features/{id}', \n",
        "                    headers={'Authorization': f'Bearer {TOKEN}'})\n",
        "    features_list.append(x.json())"
      ],
      "metadata": {
        "id": "Fn9yJYQ9Z3oX"
      },
      "execution_count": null,
      "outputs": []
    },
    {
      "cell_type": "code",
      "source": [
        "df_features = pd.DataFrame(features_list)"
      ],
      "metadata": {
        "id": "DG6rOmZPYOp_"
      },
      "execution_count": null,
      "outputs": []
    },
    {
      "cell_type": "code",
      "source": [
        "df_features.shape"
      ],
      "metadata": {
        "colab": {
          "base_uri": "https://localhost:8080/"
        },
        "id": "3gcGVklw_XIX",
        "outputId": "5c8780ad-e3ce-48b3-94e2-80550253335d"
      },
      "execution_count": null,
      "outputs": [
        {
          "output_type": "execute_result",
          "data": {
            "text/plain": [
              "(4627, 18)"
            ]
          },
          "metadata": {},
          "execution_count": 42
        }
      ]
    },
    {
      "cell_type": "code",
      "source": [
        "# saving file\n",
        "df_features.dropna(subset = ['id'], inplace = True)\n",
        "df_features.to_csv(os.path.join(path,file_features), index = False)"
      ],
      "metadata": {
        "id": "cu20FOaOFOHS"
      },
      "execution_count": null,
      "outputs": []
    },
    {
      "cell_type": "code",
      "source": [
        "TOKEN = \"\""
      ],
      "metadata": {
        "id": "d3w5LQrvxxYg"
      },
      "execution_count": null,
      "outputs": []
    },
    {
      "cell_type": "code",
      "source": [
        "import time\n",
        "artist_list = []\n",
        "artist_ids = df_id.artist_id.unique()\n",
        "\n",
        "for id in artist_ids:\n",
        "  if id != '':\n",
        "    time.sleep(.5)\n",
        "    x = requests.get(f'https://api.spotify.com/v1/artists/{id}', \n",
        "                    headers={'Authorization': f'Bearer {TOKEN}'})\n",
        "    response = x.json()\n",
        "    artist_list.append([id,response['genres'],response['popularity'],response['name']])\n",
        "\n"
      ],
      "metadata": {
        "id": "z7lXQp1jxPEF"
      },
      "execution_count": null,
      "outputs": []
    },
    {
      "cell_type": "code",
      "source": [
        "df_artist = pd.DataFrame (artist_list, columns = ['artist_id', 'artist_genre','artist_popularity','artist_name'])"
      ],
      "metadata": {
        "id": "BSf5BrsIykP_"
      },
      "execution_count": null,
      "outputs": []
    },
    {
      "cell_type": "code",
      "source": [
        "# saving artist features file\n",
        "df_artist.to_csv(os.path.join(path,file_artist), index = False)"
      ],
      "metadata": {
        "id": "zq7JFzYU_iWt"
      },
      "execution_count": null,
      "outputs": []
    },
    {
      "cell_type": "code",
      "source": [
        "df_id = pd.read_csv(os.path.join(path,file_id))\n",
        "df_features = pd.read_csv(os.path.join(path,file_features))\n",
        "df_artist = pd.read_csv(os.path.join(path,file_artist))"
      ],
      "metadata": {
        "id": "iABHXKEaw79-"
      },
      "execution_count": null,
      "outputs": []
    },
    {
      "cell_type": "code",
      "source": [
        "# Removing possible duplicates\n",
        "df_id = df_id.drop_duplicates(subset = ['song_id'], keep = 'first')\n",
        "df_features = df_features.drop_duplicates(subset = ['id'], keep = 'first')"
      ],
      "metadata": {
        "id": "iBgEoSIzBY7F"
      },
      "execution_count": null,
      "outputs": []
    },
    {
      "cell_type": "code",
      "source": [
        "# Merging all dfs\n",
        "df_merged = df_id.merge(df_features, how = 'left', left_on = 'song_id', right_on = 'id', suffixes = (\"\",\"_feature\"))\n",
        "df_final = df_merged.merge(df_artist, how = 'left', on = 'artist_id', suffixes = (\"\",\"_artist\"))"
      ],
      "metadata": {
        "id": "2Aco-E4yuOvB"
      },
      "execution_count": null,
      "outputs": []
    },
    {
      "cell_type": "code",
      "source": [
        "df_final.shape"
      ],
      "metadata": {
        "colab": {
          "base_uri": "https://localhost:8080/"
        },
        "id": "fAYCAFY2Pkj8",
        "outputId": "7ab4d030-ecc6-4c1c-8be9-67fbdc916c9d"
      },
      "execution_count": null,
      "outputs": [
        {
          "output_type": "execute_result",
          "data": {
            "text/plain": [
              "(4592, 31)"
            ]
          },
          "metadata": {},
          "execution_count": 80
        }
      ]
    },
    {
      "cell_type": "code",
      "source": [
        "# Saving final df\n",
        "file_spotify = \"spotify_features.csv\"\n",
        "df_final.to_csv(os.path.join(path,file_spotify), index = False)"
      ],
      "metadata": {
        "id": "naePohNqRj9Q"
      },
      "execution_count": 1,
      "outputs": []
    }
  ]
}